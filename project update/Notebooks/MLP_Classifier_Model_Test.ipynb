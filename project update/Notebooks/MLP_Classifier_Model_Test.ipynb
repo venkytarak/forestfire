{
  "nbformat": 4,
  "nbformat_minor": 0,
  "metadata": {
    "colab": {
      "name": "MLP Classifier Model Test ",
      "provenance": [],
      "authorship_tag": "ABX9TyMUPv+cc1wv5vDaMNyhuS7b",
      "include_colab_link": true
    },
    "kernelspec": {
      "name": "python3",
      "display_name": "Python 3"
    },
    "language_info": {
      "name": "python"
    }
  },
  "cells": [
    {
      "cell_type": "markdown",
      "metadata": {
        "id": "view-in-github",
        "colab_type": "text"
      },
      "source": [
        "<a href=\"https://colab.research.google.com/github/Sagnik220/Forest-Fire-Prediction/blob/main/MLP_Classifier_Model_Test.ipynb\" target=\"_parent\"><img src=\"https://colab.research.google.com/assets/colab-badge.svg\" alt=\"Open In Colab\"/></a>"
      ]
    },
    {
      "cell_type": "code",
      "metadata": {
        "id": "haPYsHhneGxq"
      },
      "source": [
        "import numpy as np\n",
        "import pandas as pd\n",
        "import matplotlib.pyplot as plt\n",
        "\n",
        "from sklearn.neural_network import MLPClassifier\n",
        "from sklearn.model_selection import train_test_split\n",
        "from sklearn.preprocessing import StandardScaler"
      ],
      "execution_count": 233,
      "outputs": []
    },
    {
      "cell_type": "code",
      "metadata": {
        "id": "KfAcJdMwerji"
      },
      "source": [
        "df=pd.read_csv('/content/forestfires.csv')"
      ],
      "execution_count": 234,
      "outputs": []
    },
    {
      "cell_type": "code",
      "metadata": {
        "colab": {
          "base_uri": "https://localhost:8080/",
          "height": 195
        },
        "id": "azQkLv1Ke0hp",
        "outputId": "51802de8-c495-4669-c7db-060a97b9e9ec"
      },
      "source": [
        "df.head()"
      ],
      "execution_count": 235,
      "outputs": [
        {
          "output_type": "execute_result",
          "data": {
            "text/html": [
              "<div>\n",
              "<style scoped>\n",
              "    .dataframe tbody tr th:only-of-type {\n",
              "        vertical-align: middle;\n",
              "    }\n",
              "\n",
              "    .dataframe tbody tr th {\n",
              "        vertical-align: top;\n",
              "    }\n",
              "\n",
              "    .dataframe thead th {\n",
              "        text-align: right;\n",
              "    }\n",
              "</style>\n",
              "<table border=\"1\" class=\"dataframe\">\n",
              "  <thead>\n",
              "    <tr style=\"text-align: right;\">\n",
              "      <th></th>\n",
              "      <th>X</th>\n",
              "      <th>Y</th>\n",
              "      <th>month</th>\n",
              "      <th>day</th>\n",
              "      <th>FFMC</th>\n",
              "      <th>DMC</th>\n",
              "      <th>DC</th>\n",
              "      <th>ISI</th>\n",
              "      <th>temp</th>\n",
              "      <th>RH</th>\n",
              "      <th>wind</th>\n",
              "      <th>rain</th>\n",
              "      <th>area</th>\n",
              "    </tr>\n",
              "  </thead>\n",
              "  <tbody>\n",
              "    <tr>\n",
              "      <th>0</th>\n",
              "      <td>7</td>\n",
              "      <td>5</td>\n",
              "      <td>mar</td>\n",
              "      <td>fri</td>\n",
              "      <td>86.2</td>\n",
              "      <td>26.2</td>\n",
              "      <td>94.3</td>\n",
              "      <td>5.1</td>\n",
              "      <td>8.2</td>\n",
              "      <td>51</td>\n",
              "      <td>6.7</td>\n",
              "      <td>0.0</td>\n",
              "      <td>0.0</td>\n",
              "    </tr>\n",
              "    <tr>\n",
              "      <th>1</th>\n",
              "      <td>7</td>\n",
              "      <td>4</td>\n",
              "      <td>oct</td>\n",
              "      <td>tue</td>\n",
              "      <td>90.6</td>\n",
              "      <td>35.4</td>\n",
              "      <td>669.1</td>\n",
              "      <td>6.7</td>\n",
              "      <td>18.0</td>\n",
              "      <td>33</td>\n",
              "      <td>0.9</td>\n",
              "      <td>0.0</td>\n",
              "      <td>0.0</td>\n",
              "    </tr>\n",
              "    <tr>\n",
              "      <th>2</th>\n",
              "      <td>7</td>\n",
              "      <td>4</td>\n",
              "      <td>oct</td>\n",
              "      <td>sat</td>\n",
              "      <td>90.6</td>\n",
              "      <td>43.7</td>\n",
              "      <td>686.9</td>\n",
              "      <td>6.7</td>\n",
              "      <td>14.6</td>\n",
              "      <td>33</td>\n",
              "      <td>1.3</td>\n",
              "      <td>0.0</td>\n",
              "      <td>0.0</td>\n",
              "    </tr>\n",
              "    <tr>\n",
              "      <th>3</th>\n",
              "      <td>8</td>\n",
              "      <td>6</td>\n",
              "      <td>mar</td>\n",
              "      <td>fri</td>\n",
              "      <td>91.7</td>\n",
              "      <td>33.3</td>\n",
              "      <td>77.5</td>\n",
              "      <td>9.0</td>\n",
              "      <td>8.3</td>\n",
              "      <td>97</td>\n",
              "      <td>4.0</td>\n",
              "      <td>0.2</td>\n",
              "      <td>0.0</td>\n",
              "    </tr>\n",
              "    <tr>\n",
              "      <th>4</th>\n",
              "      <td>8</td>\n",
              "      <td>6</td>\n",
              "      <td>mar</td>\n",
              "      <td>sun</td>\n",
              "      <td>89.3</td>\n",
              "      <td>51.3</td>\n",
              "      <td>102.2</td>\n",
              "      <td>9.6</td>\n",
              "      <td>11.4</td>\n",
              "      <td>99</td>\n",
              "      <td>1.8</td>\n",
              "      <td>0.0</td>\n",
              "      <td>0.0</td>\n",
              "    </tr>\n",
              "  </tbody>\n",
              "</table>\n",
              "</div>"
            ],
            "text/plain": [
              "   X  Y month  day  FFMC   DMC     DC  ISI  temp  RH  wind  rain  area\n",
              "0  7  5   mar  fri  86.2  26.2   94.3  5.1   8.2  51   6.7   0.0   0.0\n",
              "1  7  4   oct  tue  90.6  35.4  669.1  6.7  18.0  33   0.9   0.0   0.0\n",
              "2  7  4   oct  sat  90.6  43.7  686.9  6.7  14.6  33   1.3   0.0   0.0\n",
              "3  8  6   mar  fri  91.7  33.3   77.5  9.0   8.3  97   4.0   0.2   0.0\n",
              "4  8  6   mar  sun  89.3  51.3  102.2  9.6  11.4  99   1.8   0.0   0.0"
            ]
          },
          "metadata": {
            "tags": []
          },
          "execution_count": 235
        }
      ]
    },
    {
      "cell_type": "code",
      "metadata": {
        "colab": {
          "base_uri": "https://localhost:8080/"
        },
        "id": "HvDcC4uU06UX",
        "outputId": "ce24c2a7-218d-4131-b076-27e53cd563d5"
      },
      "source": [
        "df['area'].value_counts()"
      ],
      "execution_count": 238,
      "outputs": [
        {
          "output_type": "execute_result",
          "data": {
            "text/plain": [
              "0.00     247\n",
              "1.94       3\n",
              "3.71       2\n",
              "0.90       2\n",
              "1.95       2\n",
              "        ... \n",
              "1.26       1\n",
              "2.44       1\n",
              "2.03       1\n",
              "2.21       1\n",
              "24.24      1\n",
              "Name: area, Length: 251, dtype: int64"
            ]
          },
          "metadata": {
            "tags": []
          },
          "execution_count": 238
        }
      ]
    },
    {
      "cell_type": "code",
      "metadata": {
        "colab": {
          "base_uri": "https://localhost:8080/"
        },
        "id": "M7yoIAj8f01g",
        "outputId": "f6f5ad2d-d05b-4e4b-ed09-c449fe5dfefc"
      },
      "source": [
        "df.count()"
      ],
      "execution_count": 236,
      "outputs": [
        {
          "output_type": "execute_result",
          "data": {
            "text/plain": [
              "X        517\n",
              "Y        517\n",
              "month    517\n",
              "day      517\n",
              "FFMC     517\n",
              "DMC      517\n",
              "DC       517\n",
              "ISI      517\n",
              "temp     517\n",
              "RH       517\n",
              "wind     517\n",
              "rain     517\n",
              "area     517\n",
              "dtype: int64"
            ]
          },
          "metadata": {
            "tags": []
          },
          "execution_count": 236
        }
      ]
    },
    {
      "cell_type": "code",
      "metadata": {
        "id": "64T2YBWr1EMD"
      },
      "source": [
        "df=df.drop(['X','Y','month','day'],axis=1)"
      ],
      "execution_count": 244,
      "outputs": []
    },
    {
      "cell_type": "code",
      "metadata": {
        "id": "r4llIzlxfO7o"
      },
      "source": [
        "def preprocessing(df,task):\n",
        "  df=df.copy()\n",
        "  if task=='Regression':\n",
        "    Y=df['area']\n",
        "  elif task=='Classification':\n",
        "    Y=df['area'].apply(lambda x: 1 if x>0 else 0)\n",
        "\n",
        "  X=df.drop('area',axis=1)\n",
        "\n",
        "  X_train,X_test,Y_train,Y_test=train_test_split(X,Y,train_size=0.65,shuffle=False,random_state=0)\n",
        "\n",
        "  scaler=StandardScaler()\n",
        "  scaler.fit(X_train)\n",
        "\n",
        "  X_train=pd.DataFrame(scaler.transform(X_train),columns=X.columns)\n",
        "  X_test=pd.DataFrame(scaler.transform(X_test),columns=X.columns)\n",
        "\n",
        "  return X_train,X_test,Y_train,Y_test"
      ],
      "execution_count": 245,
      "outputs": []
    },
    {
      "cell_type": "code",
      "metadata": {
        "id": "If6nkFuRgc-c"
      },
      "source": [
        "X_train,X_test,Y_train,Y_test=preprocessing(df,task='Classification')"
      ],
      "execution_count": 246,
      "outputs": []
    },
    {
      "cell_type": "code",
      "metadata": {
        "colab": {
          "base_uri": "https://localhost:8080/",
          "height": 195
        },
        "id": "R7u538cfkBtA",
        "outputId": "5fa23675-64ad-4ef8-afe1-6ae6a7a9f36f"
      },
      "source": [
        "X_train.head()"
      ],
      "execution_count": 247,
      "outputs": [
        {
          "output_type": "execute_result",
          "data": {
            "text/html": [
              "<div>\n",
              "<style scoped>\n",
              "    .dataframe tbody tr th:only-of-type {\n",
              "        vertical-align: middle;\n",
              "    }\n",
              "\n",
              "    .dataframe tbody tr th {\n",
              "        vertical-align: top;\n",
              "    }\n",
              "\n",
              "    .dataframe thead th {\n",
              "        text-align: right;\n",
              "    }\n",
              "</style>\n",
              "<table border=\"1\" class=\"dataframe\">\n",
              "  <thead>\n",
              "    <tr style=\"text-align: right;\">\n",
              "      <th></th>\n",
              "      <th>FFMC</th>\n",
              "      <th>DMC</th>\n",
              "      <th>DC</th>\n",
              "      <th>ISI</th>\n",
              "      <th>temp</th>\n",
              "      <th>RH</th>\n",
              "      <th>wind</th>\n",
              "      <th>rain</th>\n",
              "    </tr>\n",
              "  </thead>\n",
              "  <tbody>\n",
              "    <tr>\n",
              "      <th>0</th>\n",
              "      <td>-0.851337</td>\n",
              "      <td>-1.497066</td>\n",
              "      <td>-1.741817</td>\n",
              "      <td>-0.786052</td>\n",
              "      <td>-1.853885</td>\n",
              "      <td>0.542042</td>\n",
              "      <td>1.488535</td>\n",
              "      <td>-0.073692</td>\n",
              "    </tr>\n",
              "    <tr>\n",
              "      <th>1</th>\n",
              "      <td>0.045241</td>\n",
              "      <td>-1.290273</td>\n",
              "      <td>0.604909</td>\n",
              "      <td>-0.449092</td>\n",
              "      <td>-0.028985</td>\n",
              "      <td>-0.591916</td>\n",
              "      <td>-1.703078</td>\n",
              "      <td>-0.073692</td>\n",
              "    </tr>\n",
              "    <tr>\n",
              "      <th>2</th>\n",
              "      <td>0.045241</td>\n",
              "      <td>-1.103710</td>\n",
              "      <td>0.677581</td>\n",
              "      <td>-0.449092</td>\n",
              "      <td>-0.662114</td>\n",
              "      <td>-0.591916</td>\n",
              "      <td>-1.482967</td>\n",
              "      <td>-0.073692</td>\n",
              "    </tr>\n",
              "    <tr>\n",
              "      <th>3</th>\n",
              "      <td>0.269386</td>\n",
              "      <td>-1.337476</td>\n",
              "      <td>-1.810406</td>\n",
              "      <td>0.035288</td>\n",
              "      <td>-1.835263</td>\n",
              "      <td>3.439935</td>\n",
              "      <td>0.002784</td>\n",
              "      <td>3.463542</td>\n",
              "    </tr>\n",
              "    <tr>\n",
              "      <th>4</th>\n",
              "      <td>-0.219657</td>\n",
              "      <td>-0.932881</td>\n",
              "      <td>-1.709563</td>\n",
              "      <td>0.161648</td>\n",
              "      <td>-1.257999</td>\n",
              "      <td>3.565930</td>\n",
              "      <td>-1.207828</td>\n",
              "      <td>-0.073692</td>\n",
              "    </tr>\n",
              "  </tbody>\n",
              "</table>\n",
              "</div>"
            ],
            "text/plain": [
              "       FFMC       DMC        DC  ...        RH      wind      rain\n",
              "0 -0.851337 -1.497066 -1.741817  ...  0.542042  1.488535 -0.073692\n",
              "1  0.045241 -1.290273  0.604909  ... -0.591916 -1.703078 -0.073692\n",
              "2  0.045241 -1.103710  0.677581  ... -0.591916 -1.482967 -0.073692\n",
              "3  0.269386 -1.337476 -1.810406  ...  3.439935  0.002784  3.463542\n",
              "4 -0.219657 -0.932881 -1.709563  ...  3.565930 -1.207828 -0.073692\n",
              "\n",
              "[5 rows x 8 columns]"
            ]
          },
          "metadata": {
            "tags": []
          },
          "execution_count": 247
        }
      ]
    },
    {
      "cell_type": "code",
      "metadata": {
        "colab": {
          "base_uri": "https://localhost:8080/",
          "height": 596
        },
        "id": "fk-DtmcJo6xD",
        "outputId": "69677a14-c2e8-40d9-ddab-08a1571e7318"
      },
      "source": [
        "import seaborn as sns\n",
        "plt.figure(figsize=(12,10))\n",
        "corr=X_train.corr()\n",
        "sns.heatmap(corr, annot=True, cmap=plt.cm.CMRmap_r )\n",
        "plt.show()"
      ],
      "execution_count": 248,
      "outputs": [
        {
          "output_type": "display_data",
          "data": {
            "image/png": "[encoded data removed]",
            "text/plain": [
              "<Figure size 864x720 with 2 Axes>"
            ]
          },
          "metadata": {
            "tags": [],
            "needs_background": "light"
          }
        }
      ]
    },
    {
      "cell_type": "code",
      "metadata": {
        "id": "SCqUJpfBsDxB"
      },
      "source": [
        "def correlation(dataset,threshold):\n",
        "  col_corr=set()\n",
        "  corr_matrix=dataset.corr()\n",
        "  for i in range(len(corr_matrix.columns)):\n",
        "    for j in range(i):\n",
        "      if(abs(corr_matrix.iloc[i,j])>threshold):\n",
        "        colname=corr_matrix.columns[i]\n",
        "        col_corr.add(colname)\n",
        "  return col_corr"
      ],
      "execution_count": 249,
      "outputs": []
    },
    {
      "cell_type": "code",
      "metadata": {
        "colab": {
          "base_uri": "https://localhost:8080/"
        },
        "id": "FQhJrboPt2Cg",
        "outputId": "297d0f65-fe7f-4124-c13d-e0914d9f4544"
      },
      "source": [
        "corr_features=correlation(X_train,0.7)\n",
        "len(set(corr_features))"
      ],
      "execution_count": 250,
      "outputs": [
        {
          "output_type": "execute_result",
          "data": {
            "text/plain": [
              "0"
            ]
          },
          "metadata": {
            "tags": []
          },
          "execution_count": 250
        }
      ]
    },
    {
      "cell_type": "code",
      "metadata": {
        "colab": {
          "base_uri": "https://localhost:8080/"
        },
        "id": "rZM3J_iMuWUW",
        "outputId": "3c250302-95dc-4145-fa75-38d7a1cb209c"
      },
      "source": [
        "corr_features"
      ],
      "execution_count": 251,
      "outputs": [
        {
          "output_type": "execute_result",
          "data": {
            "text/plain": [
              "set()"
            ]
          },
          "metadata": {
            "tags": []
          },
          "execution_count": 251
        }
      ]
    },
    {
      "cell_type": "code",
      "metadata": {
        "colab": {
          "base_uri": "https://localhost:8080/",
          "height": 195
        },
        "id": "TQB_afBzuzoT",
        "outputId": "bf22cc42-dc57-4457-ae6b-e7534f990191"
      },
      "source": [
        "X_train.drop(corr_features,axis=1).head()"
      ],
      "execution_count": 252,
      "outputs": [
        {
          "output_type": "execute_result",
          "data": {
            "text/html": [
              "<div>\n",
              "<style scoped>\n",
              "    .dataframe tbody tr th:only-of-type {\n",
              "        vertical-align: middle;\n",
              "    }\n",
              "\n",
              "    .dataframe tbody tr th {\n",
              "        vertical-align: top;\n",
              "    }\n",
              "\n",
              "    .dataframe thead th {\n",
              "        text-align: right;\n",
              "    }\n",
              "</style>\n",
              "<table border=\"1\" class=\"dataframe\">\n",
              "  <thead>\n",
              "    <tr style=\"text-align: right;\">\n",
              "      <th></th>\n",
              "      <th>FFMC</th>\n",
              "      <th>DMC</th>\n",
              "      <th>DC</th>\n",
              "      <th>ISI</th>\n",
              "      <th>temp</th>\n",
              "      <th>RH</th>\n",
              "      <th>wind</th>\n",
              "      <th>rain</th>\n",
              "    </tr>\n",
              "  </thead>\n",
              "  <tbody>\n",
              "    <tr>\n",
              "      <th>0</th>\n",
              "      <td>-0.851337</td>\n",
              "      <td>-1.497066</td>\n",
              "      <td>-1.741817</td>\n",
              "      <td>-0.786052</td>\n",
              "      <td>-1.853885</td>\n",
              "      <td>0.542042</td>\n",
              "      <td>1.488535</td>\n",
              "      <td>-0.073692</td>\n",
              "    </tr>\n",
              "    <tr>\n",
              "      <th>1</th>\n",
              "      <td>0.045241</td>\n",
              "      <td>-1.290273</td>\n",
              "      <td>0.604909</td>\n",
              "      <td>-0.449092</td>\n",
              "      <td>-0.028985</td>\n",
              "      <td>-0.591916</td>\n",
              "      <td>-1.703078</td>\n",
              "      <td>-0.073692</td>\n",
              "    </tr>\n",
              "    <tr>\n",
              "      <th>2</th>\n",
              "      <td>0.045241</td>\n",
              "      <td>-1.103710</td>\n",
              "      <td>0.677581</td>\n",
              "      <td>-0.449092</td>\n",
              "      <td>-0.662114</td>\n",
              "      <td>-0.591916</td>\n",
              "      <td>-1.482967</td>\n",
              "      <td>-0.073692</td>\n",
              "    </tr>\n",
              "    <tr>\n",
              "      <th>3</th>\n",
              "      <td>0.269386</td>\n",
              "      <td>-1.337476</td>\n",
              "      <td>-1.810406</td>\n",
              "      <td>0.035288</td>\n",
              "      <td>-1.835263</td>\n",
              "      <td>3.439935</td>\n",
              "      <td>0.002784</td>\n",
              "      <td>3.463542</td>\n",
              "    </tr>\n",
              "    <tr>\n",
              "      <th>4</th>\n",
              "      <td>-0.219657</td>\n",
              "      <td>-0.932881</td>\n",
              "      <td>-1.709563</td>\n",
              "      <td>0.161648</td>\n",
              "      <td>-1.257999</td>\n",
              "      <td>3.565930</td>\n",
              "      <td>-1.207828</td>\n",
              "      <td>-0.073692</td>\n",
              "    </tr>\n",
              "  </tbody>\n",
              "</table>\n",
              "</div>"
            ],
            "text/plain": [
              "       FFMC       DMC        DC  ...        RH      wind      rain\n",
              "0 -0.851337 -1.497066 -1.741817  ...  0.542042  1.488535 -0.073692\n",
              "1  0.045241 -1.290273  0.604909  ... -0.591916 -1.703078 -0.073692\n",
              "2  0.045241 -1.103710  0.677581  ... -0.591916 -1.482967 -0.073692\n",
              "3  0.269386 -1.337476 -1.810406  ...  3.439935  0.002784  3.463542\n",
              "4 -0.219657 -0.932881 -1.709563  ...  3.565930 -1.207828 -0.073692\n",
              "\n",
              "[5 rows x 8 columns]"
            ]
          },
          "metadata": {
            "tags": []
          },
          "execution_count": 252
        }
      ]
    },
    {
      "cell_type": "code",
      "metadata": {
        "colab": {
          "base_uri": "https://localhost:8080/",
          "height": 195
        },
        "id": "oJ2_e2eNvCmP",
        "outputId": "d969a1ac-319d-4157-ed5b-a828deb9fc0a"
      },
      "source": [
        "X_test.drop(corr_features,axis=1).head()"
      ],
      "execution_count": 253,
      "outputs": [
        {
          "output_type": "execute_result",
          "data": {
            "text/html": [
              "<div>\n",
              "<style scoped>\n",
              "    .dataframe tbody tr th:only-of-type {\n",
              "        vertical-align: middle;\n",
              "    }\n",
              "\n",
              "    .dataframe tbody tr th {\n",
              "        vertical-align: top;\n",
              "    }\n",
              "\n",
              "    .dataframe thead th {\n",
              "        text-align: right;\n",
              "    }\n",
              "</style>\n",
              "<table border=\"1\" class=\"dataframe\">\n",
              "  <thead>\n",
              "    <tr style=\"text-align: right;\">\n",
              "      <th></th>\n",
              "      <th>FFMC</th>\n",
              "      <th>DMC</th>\n",
              "      <th>DC</th>\n",
              "      <th>ISI</th>\n",
              "      <th>temp</th>\n",
              "      <th>RH</th>\n",
              "      <th>wind</th>\n",
              "      <th>rain</th>\n",
              "    </tr>\n",
              "  </thead>\n",
              "  <tbody>\n",
              "    <tr>\n",
              "      <th>0</th>\n",
              "      <td>0.249009</td>\n",
              "      <td>0.350581</td>\n",
              "      <td>0.992355</td>\n",
              "      <td>-0.554392</td>\n",
              "      <td>0.213093</td>\n",
              "      <td>0.101059</td>\n",
              "      <td>-0.987716</td>\n",
              "      <td>-0.073692</td>\n",
              "    </tr>\n",
              "    <tr>\n",
              "      <th>1</th>\n",
              "      <td>0.249009</td>\n",
              "      <td>0.350581</td>\n",
              "      <td>0.992355</td>\n",
              "      <td>-0.554392</td>\n",
              "      <td>0.902086</td>\n",
              "      <td>-0.528918</td>\n",
              "      <td>-0.987716</td>\n",
              "      <td>-0.073692</td>\n",
              "    </tr>\n",
              "    <tr>\n",
              "      <th>2</th>\n",
              "      <td>0.249009</td>\n",
              "      <td>0.350581</td>\n",
              "      <td>0.992355</td>\n",
              "      <td>-0.554392</td>\n",
              "      <td>0.846222</td>\n",
              "      <td>-0.465920</td>\n",
              "      <td>-0.987716</td>\n",
              "      <td>-0.073692</td>\n",
              "    </tr>\n",
              "    <tr>\n",
              "      <th>3</th>\n",
              "      <td>0.249009</td>\n",
              "      <td>0.350581</td>\n",
              "      <td>0.992355</td>\n",
              "      <td>-0.554392</td>\n",
              "      <td>0.417929</td>\n",
              "      <td>-0.087934</td>\n",
              "      <td>-1.207828</td>\n",
              "      <td>-0.073692</td>\n",
              "    </tr>\n",
              "    <tr>\n",
              "      <th>4</th>\n",
              "      <td>0.249009</td>\n",
              "      <td>0.350581</td>\n",
              "      <td>0.992355</td>\n",
              "      <td>-0.554392</td>\n",
              "      <td>0.213093</td>\n",
              "      <td>0.101059</td>\n",
              "      <td>-0.987716</td>\n",
              "      <td>-0.073692</td>\n",
              "    </tr>\n",
              "  </tbody>\n",
              "</table>\n",
              "</div>"
            ],
            "text/plain": [
              "       FFMC       DMC        DC  ...        RH      wind      rain\n",
              "0  0.249009  0.350581  0.992355  ...  0.101059 -0.987716 -0.073692\n",
              "1  0.249009  0.350581  0.992355  ... -0.528918 -0.987716 -0.073692\n",
              "2  0.249009  0.350581  0.992355  ... -0.465920 -0.987716 -0.073692\n",
              "3  0.249009  0.350581  0.992355  ... -0.087934 -1.207828 -0.073692\n",
              "4  0.249009  0.350581  0.992355  ...  0.101059 -0.987716 -0.073692\n",
              "\n",
              "[5 rows x 8 columns]"
            ]
          },
          "metadata": {
            "tags": []
          },
          "execution_count": 253
        }
      ]
    },
    {
      "cell_type": "code",
      "metadata": {
        "colab": {
          "base_uri": "https://localhost:8080/"
        },
        "id": "aCAAVY53hZPy",
        "outputId": "62f03706-7433-41e4-b917-3a445cfd2661"
      },
      "source": [
        "nn_classifier_model=MLPClassifier(activation='relu',hidden_layer_sizes=(16,16),n_iter_no_change=100,solver='adam')\n",
        "nn_classifier_model.fit(X_train,Y_train)"
      ],
      "execution_count": 254,
      "outputs": [
        {
          "output_type": "stream",
          "text": [
            "/usr/local/lib/python3.7/dist-packages/sklearn/neural_network/_multilayer_perceptron.py:571: ConvergenceWarning: Stochastic Optimizer: Maximum iterations (200) reached and the optimization hasn't converged yet.\n",
            "  % self.max_iter, ConvergenceWarning)\n"
          ],
          "name": "stderr"
        },
        {
          "output_type": "execute_result",
          "data": {
            "text/plain": [
              "MLPClassifier(activation='relu', alpha=0.0001, batch_size='auto', beta_1=0.9,\n",
              "              beta_2=0.999, early_stopping=False, epsilon=1e-08,\n",
              "              hidden_layer_sizes=(16, 16), learning_rate='constant',\n",
              "              learning_rate_init=0.001, max_fun=15000, max_iter=200,\n",
              "              momentum=0.9, n_iter_no_change=100, nesterovs_momentum=True,\n",
              "              power_t=0.5, random_state=None, shuffle=True, solver='adam',\n",
              "              tol=0.0001, validation_fraction=0.1, verbose=False,\n",
              "              warm_start=False)"
            ]
          },
          "metadata": {
            "tags": []
          },
          "execution_count": 254
        }
      ]
    },
    {
      "cell_type": "code",
      "metadata": {
        "colab": {
          "base_uri": "https://localhost:8080/"
        },
        "id": "RP5Id2Y8hZZT",
        "outputId": "a3d58ef3-297f-4681-ccce-645fe4457118"
      },
      "source": [
        "print('MLP Classifier Accuracy, {:.5f}%'.format(nn_classifier_model.score(X_test,Y_test)*100))"
      ],
      "execution_count": 255,
      "outputs": [
        {
          "output_type": "stream",
          "text": [
            "MLP Classifier Accuracy, 50.82873%\n"
          ],
          "name": "stdout"
        }
      ]
    },
    {
      "cell_type": "code",
      "metadata": {
        "colab": {
          "base_uri": "https://localhost:8080/"
        },
        "id": "6LwFQUq1wGrv",
        "outputId": "f9ecff2d-f345-4b3f-9e6b-5ce14e97e579"
      },
      "source": [
        "nn_classifier_model.predict_proba(X_test[:10])"
      ],
      "execution_count": 256,
      "outputs": [
        {
          "output_type": "execute_result",
          "data": {
            "text/plain": [
              "array([[0.57724435, 0.42275565],\n",
              "       [0.67336303, 0.32663697],\n",
              "       [0.66327232, 0.33672768],\n",
              "       [0.58399674, 0.41600326],\n",
              "       [0.57724435, 0.42275565],\n",
              "       [0.52085341, 0.47914659],\n",
              "       [0.43364496, 0.56635504],\n",
              "       [0.63576475, 0.36423525],\n",
              "       [0.76551969, 0.23448031],\n",
              "       [0.42865212, 0.57134788]])"
            ]
          },
          "metadata": {
            "tags": []
          },
          "execution_count": 256
        }
      ]
    },
    {
      "cell_type": "code",
      "metadata": {
        "colab": {
          "base_uri": "https://localhost:8080/"
        },
        "id": "ZrYAWrLOwnc6",
        "outputId": "be16bae4-c800-487b-a923-013dc837ac2d"
      },
      "source": [
        "nn_classifier_model.predict(X_test[:10])"
      ],
      "execution_count": 257,
      "outputs": [
        {
          "output_type": "execute_result",
          "data": {
            "text/plain": [
              "array([0, 0, 0, 0, 0, 0, 1, 0, 0, 1])"
            ]
          },
          "metadata": {
            "tags": []
          },
          "execution_count": 257
        }
      ]
    },
    {
      "cell_type": "code",
      "metadata": {
        "colab": {
          "base_uri": "https://localhost:8080/",
          "height": 343
        },
        "id": "0hZjBM-dxHY6",
        "outputId": "3f18de0e-7f86-4828-f860-ada4d78cfef0"
      },
      "source": [
        "X_test[:10]"
      ],
      "execution_count": 258,
      "outputs": [
        {
          "output_type": "execute_result",
          "data": {
            "text/html": [
              "<div>\n",
              "<style scoped>\n",
              "    .dataframe tbody tr th:only-of-type {\n",
              "        vertical-align: middle;\n",
              "    }\n",
              "\n",
              "    .dataframe tbody tr th {\n",
              "        vertical-align: top;\n",
              "    }\n",
              "\n",
              "    .dataframe thead th {\n",
              "        text-align: right;\n",
              "    }\n",
              "</style>\n",
              "<table border=\"1\" class=\"dataframe\">\n",
              "  <thead>\n",
              "    <tr style=\"text-align: right;\">\n",
              "      <th></th>\n",
              "      <th>FFMC</th>\n",
              "      <th>DMC</th>\n",
              "      <th>DC</th>\n",
              "      <th>ISI</th>\n",
              "      <th>temp</th>\n",
              "      <th>RH</th>\n",
              "      <th>wind</th>\n",
              "      <th>rain</th>\n",
              "    </tr>\n",
              "  </thead>\n",
              "  <tbody>\n",
              "    <tr>\n",
              "      <th>0</th>\n",
              "      <td>0.249009</td>\n",
              "      <td>0.350581</td>\n",
              "      <td>0.992355</td>\n",
              "      <td>-0.554392</td>\n",
              "      <td>0.213093</td>\n",
              "      <td>0.101059</td>\n",
              "      <td>-0.987716</td>\n",
              "      <td>-0.073692</td>\n",
              "    </tr>\n",
              "    <tr>\n",
              "      <th>1</th>\n",
              "      <td>0.249009</td>\n",
              "      <td>0.350581</td>\n",
              "      <td>0.992355</td>\n",
              "      <td>-0.554392</td>\n",
              "      <td>0.902086</td>\n",
              "      <td>-0.528918</td>\n",
              "      <td>-0.987716</td>\n",
              "      <td>-0.073692</td>\n",
              "    </tr>\n",
              "    <tr>\n",
              "      <th>2</th>\n",
              "      <td>0.249009</td>\n",
              "      <td>0.350581</td>\n",
              "      <td>0.992355</td>\n",
              "      <td>-0.554392</td>\n",
              "      <td>0.846222</td>\n",
              "      <td>-0.465920</td>\n",
              "      <td>-0.987716</td>\n",
              "      <td>-0.073692</td>\n",
              "    </tr>\n",
              "    <tr>\n",
              "      <th>3</th>\n",
              "      <td>0.249009</td>\n",
              "      <td>0.350581</td>\n",
              "      <td>0.992355</td>\n",
              "      <td>-0.554392</td>\n",
              "      <td>0.417929</td>\n",
              "      <td>-0.087934</td>\n",
              "      <td>-1.207828</td>\n",
              "      <td>-0.073692</td>\n",
              "    </tr>\n",
              "    <tr>\n",
              "      <th>4</th>\n",
              "      <td>0.249009</td>\n",
              "      <td>0.350581</td>\n",
              "      <td>0.992355</td>\n",
              "      <td>-0.554392</td>\n",
              "      <td>0.213093</td>\n",
              "      <td>0.101059</td>\n",
              "      <td>-0.987716</td>\n",
              "      <td>-0.073692</td>\n",
              "    </tr>\n",
              "    <tr>\n",
              "      <th>5</th>\n",
              "      <td>0.310139</td>\n",
              "      <td>0.424757</td>\n",
              "      <td>1.018076</td>\n",
              "      <td>-0.491212</td>\n",
              "      <td>-0.457278</td>\n",
              "      <td>0.542042</td>\n",
              "      <td>-0.987716</td>\n",
              "      <td>-0.073692</td>\n",
              "    </tr>\n",
              "    <tr>\n",
              "      <th>6</th>\n",
              "      <td>0.228632</td>\n",
              "      <td>0.838342</td>\n",
              "      <td>1.168319</td>\n",
              "      <td>-0.280612</td>\n",
              "      <td>0.455172</td>\n",
              "      <td>-0.339925</td>\n",
              "      <td>-1.207828</td>\n",
              "      <td>-0.073692</td>\n",
              "    </tr>\n",
              "    <tr>\n",
              "      <th>7</th>\n",
              "      <td>0.228632</td>\n",
              "      <td>0.838342</td>\n",
              "      <td>1.168319</td>\n",
              "      <td>-0.280612</td>\n",
              "      <td>-0.420035</td>\n",
              "      <td>0.542042</td>\n",
              "      <td>0.277923</td>\n",
              "      <td>-0.073692</td>\n",
              "    </tr>\n",
              "    <tr>\n",
              "      <th>8</th>\n",
              "      <td>0.228632</td>\n",
              "      <td>0.838342</td>\n",
              "      <td>1.168319</td>\n",
              "      <td>-0.280612</td>\n",
              "      <td>-1.109028</td>\n",
              "      <td>1.487007</td>\n",
              "      <td>0.498034</td>\n",
              "      <td>-0.073692</td>\n",
              "    </tr>\n",
              "    <tr>\n",
              "      <th>9</th>\n",
              "      <td>0.228632</td>\n",
              "      <td>0.838342</td>\n",
              "      <td>1.168319</td>\n",
              "      <td>-0.280612</td>\n",
              "      <td>-0.252442</td>\n",
              "      <td>0.038061</td>\n",
              "      <td>-0.492466</td>\n",
              "      <td>-0.073692</td>\n",
              "    </tr>\n",
              "  </tbody>\n",
              "</table>\n",
              "</div>"
            ],
            "text/plain": [
              "       FFMC       DMC        DC  ...        RH      wind      rain\n",
              "0  0.249009  0.350581  0.992355  ...  0.101059 -0.987716 -0.073692\n",
              "1  0.249009  0.350581  0.992355  ... -0.528918 -0.987716 -0.073692\n",
              "2  0.249009  0.350581  0.992355  ... -0.465920 -0.987716 -0.073692\n",
              "3  0.249009  0.350581  0.992355  ... -0.087934 -1.207828 -0.073692\n",
              "4  0.249009  0.350581  0.992355  ...  0.101059 -0.987716 -0.073692\n",
              "5  0.310139  0.424757  1.018076  ...  0.542042 -0.987716 -0.073692\n",
              "6  0.228632  0.838342  1.168319  ... -0.339925 -1.207828 -0.073692\n",
              "7  0.228632  0.838342  1.168319  ...  0.542042  0.277923 -0.073692\n",
              "8  0.228632  0.838342  1.168319  ...  1.487007  0.498034 -0.073692\n",
              "9  0.228632  0.838342  1.168319  ...  0.038061 -0.492466 -0.073692\n",
              "\n",
              "[10 rows x 8 columns]"
            ]
          },
          "metadata": {
            "tags": []
          },
          "execution_count": 258
        }
      ]
    },
    {
      "cell_type": "code",
      "metadata": {
        "colab": {
          "base_uri": "https://localhost:8080/"
        },
        "id": "hwUCusdhxp3Q",
        "outputId": "4996c969-e476-41cc-998e-b695dd0ad79f"
      },
      "source": [
        "Y_test[:10]"
      ],
      "execution_count": 219,
      "outputs": [
        {
          "output_type": "execute_result",
          "data": {
            "text/plain": [
              "336    0\n",
              "337    1\n",
              "338    1\n",
              "339    1\n",
              "340    1\n",
              "341    0\n",
              "342    0\n",
              "343    1\n",
              "344    1\n",
              "345    1\n",
              "Name: area, dtype: int64"
            ]
          },
          "metadata": {
            "tags": []
          },
          "execution_count": 219
        }
      ]
    },
    {
      "cell_type": "code",
      "metadata": {
        "colab": {
          "base_uri": "https://localhost:8080/"
        },
        "id": "_FaNoeMuz1cu",
        "outputId": "cae48f97-4e9c-4a20-9ace-dacc1fc040b2"
      },
      "source": [
        "df_test['area'].value_counts()"
      ],
      "execution_count": 224,
      "outputs": [
        {
          "output_type": "execute_result",
          "data": {
            "text/plain": [
              "0.00     247\n",
              "1.94       3\n",
              "3.71       2\n",
              "0.90       2\n",
              "1.95       2\n",
              "        ... \n",
              "1.26       1\n",
              "2.44       1\n",
              "2.03       1\n",
              "2.21       1\n",
              "24.24      1\n",
              "Name: area, Length: 251, dtype: int64"
            ]
          },
          "metadata": {
            "tags": []
          },
          "execution_count": 224
        }
      ]
    },
    {
      "cell_type": "markdown",
      "metadata": {
        "id": "bNRoNIEev4E8"
      },
      "source": [
        "### Test to check:"
      ]
    },
    {
      "cell_type": "code",
      "metadata": {
        "colab": {
          "base_uri": "https://localhost:8080/"
        },
        "id": "FVGep4yOkN9s",
        "outputId": "2031af1a-b018-43a1-a3ef-5f8733f2394f"
      },
      "source": [
        "nn_classifier_model.predict(X_test)"
      ],
      "execution_count": 261,
      "outputs": [
        {
          "output_type": "execute_result",
          "data": {
            "text/plain": [
              "array([0, 0, 0, 0, 0, 0, 1, 0, 0, 1, 1, 0, 0, 0, 0, 1, 0, 0, 0, 1, 1, 0,\n",
              "       1, 1, 1, 1, 0, 0, 0, 0, 1, 0, 0, 0, 0, 0, 0, 1, 0, 0, 1, 1, 1, 0,\n",
              "       0, 0, 1, 1, 1, 1, 1, 0, 1, 1, 0, 0, 1, 0, 0, 0, 1, 1, 1, 0, 0, 0,\n",
              "       1, 1, 0, 1, 0, 0, 1, 0, 0, 1, 0, 1, 1, 1, 1, 0, 1, 1, 1, 1, 1, 0,\n",
              "       1, 1, 1, 1, 1, 1, 1, 1, 1, 0, 1, 1, 1, 0, 1, 0, 0, 1, 0, 1, 0, 1,\n",
              "       0, 1, 0, 0, 1, 0, 0, 0, 0, 1, 0, 1, 0, 0, 0, 0, 0, 0, 0, 0, 0, 0,\n",
              "       0, 1, 0, 0, 0, 0, 1, 1, 0, 1, 1, 0, 1, 1, 1, 1, 1, 1, 1, 1, 1, 1,\n",
              "       1, 1, 1, 1, 1, 1, 1, 1, 1, 0, 0, 0, 0, 1, 1, 1, 0, 1, 1, 0, 0, 1,\n",
              "       1, 0, 0, 1, 0])"
            ]
          },
          "metadata": {
            "tags": []
          },
          "execution_count": 261
        }
      ]
    },
    {
      "cell_type": "code",
      "metadata": {
        "colab": {
          "base_uri": "https://localhost:8080/"
        },
        "id": "ruf7949ykgiW",
        "outputId": "f949335c-e095-44ce-9c24-eced7b775c12"
      },
      "source": [
        "np.array(Y_test)"
      ],
      "execution_count": 262,
      "outputs": [
        {
          "output_type": "execute_result",
          "data": {
            "text/plain": [
              "array([0, 1, 1, 1, 1, 0, 0, 1, 1, 1, 1, 0, 0, 1, 1, 1, 1, 1, 1, 1, 1, 0,\n",
              "       0, 1, 1, 1, 1, 1, 1, 1, 1, 0, 1, 0, 1, 0, 0, 0, 1, 1, 0, 1, 0, 0,\n",
              "       1, 1, 1, 1, 1, 1, 1, 0, 1, 0, 1, 1, 1, 0, 0, 1, 1, 1, 0, 0, 1, 1,\n",
              "       0, 0, 1, 0, 1, 0, 1, 0, 0, 1, 1, 0, 0, 1, 1, 0, 1, 1, 1, 0, 1, 1,\n",
              "       1, 0, 0, 1, 0, 1, 0, 1, 0, 1, 0, 0, 1, 0, 1, 1, 0, 1, 1, 0, 1, 0,\n",
              "       0, 0, 0, 0, 1, 1, 0, 0, 0, 0, 0, 1, 1, 1, 0, 0, 1, 1, 1, 1, 1, 1,\n",
              "       1, 1, 0, 1, 1, 1, 1, 1, 1, 1, 1, 1, 1, 0, 1, 0, 1, 1, 1, 1, 1, 0,\n",
              "       0, 0, 0, 1, 1, 0, 1, 1, 1, 1, 0, 0, 0, 1, 1, 1, 0, 0, 0, 1, 1, 0,\n",
              "       1, 1, 1, 0, 0])"
            ]
          },
          "metadata": {
            "tags": []
          },
          "execution_count": 262
        }
      ]
    },
    {
      "cell_type": "code",
      "metadata": {
        "colab": {
          "base_uri": "https://localhost:8080/"
        },
        "id": "uajulhfaksKN",
        "outputId": "96e63306-ba2c-43ae-8e1f-fec1732b2142"
      },
      "source": [
        "Y_pred=nn_classifier_model.predict(X_test)\n",
        "print('MLP Classifier Accuracy, {:.5f}%'.format(np.mean(Y_pred==Y_test)*100))"
      ],
      "execution_count": 263,
      "outputs": [
        {
          "output_type": "stream",
          "text": [
            "MLP Classifier Accuracy, 50.82873%\n"
          ],
          "name": "stdout"
        }
      ]
    }
  ]
}